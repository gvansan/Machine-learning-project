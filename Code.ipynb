{
 "cells": [
  {
   "cell_type": "code",
   "execution_count": null,
   "id": "ec0e1498",
   "metadata": {},
   "outputs": [],
   "source": [
    "print('Hello world!')\n"
   ]
  },
  {
   "cell_type": "markdown",
   "id": "d2740ae6",
   "metadata": {},
   "source": [
    "Test to see difference in branches"
   ]
  }
 ],
 "metadata": {
  "kernelspec": {
   "display_name": "Python 3",
   "language": "python",
   "name": "python3"
  },
  "language_info": {
   "name": "python",
   "version": "3.12.0"
  }
 },
 "nbformat": 4,
 "nbformat_minor": 5
}
