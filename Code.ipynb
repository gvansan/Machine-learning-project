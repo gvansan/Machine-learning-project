{
 "cells": [
  {
   "cell_type": "code",
   "execution_count": 1,
   "id": "ec0e1498",
   "metadata": {},
   "outputs": [],
   "source": [
    "import os\n",
    "import torch\n",
    "from torch import nn, optim\n",
    "import numpy as np\n",
    "import matplotlib.pyplot as plt\n",
    "\n",
    "from diffEq import odes, plot"
   ]
  },
  {
   "cell_type": "markdown",
   "id": "866bb3e6-f725-448e-b1d5-5d580953a751",
   "metadata": {},
   "source": [
    "## Test differential equation:\n",
    "\n",
    "$\\frac{dT(t)}{dt} = r(T_{env} - T(t))$\n",
    "\n"
   ]
  },
  {
   "cell_type": "code",
   "execution_count": 2,
   "id": "28db0f35-43ff-4017-b333-df8f7d0b7fa6",
   "metadata": {},
   "outputs": [
    {
     "data": {
      "image/png": "[encoded data removed]",
      "text/plain": [
       "<Figure size 640x480 with 1 Axes>"
      ]
     },
     "metadata": {},
     "output_type": "display_data"
    }
   ],
   "source": [
    "r = 1\n",
    "T_env = 300\n",
    "\n",
    "# args = [T]\n",
    "def DT(t, args):\n",
    "    return r*(T_env - args[0])\n",
    "\n",
    "cooling_obj = odes([DT], [370])\n",
    "\n",
    "t_list, T_list = cooling_obj.solve_Runge_Kutta(0, 10, h=0.1, stage=4)\n",
    "solutions = {\"RK4\": (t_list, T_list)}\n",
    "\n",
    "plot(solutions)"
   ]
  },
  {
   "cell_type": "markdown",
   "id": "0b1c62b7-fc8f-42b3-ae15-c7960600869d",
   "metadata": {},
   "source": [
    "## Getting device for training"
   ]
  },
  {
   "cell_type": "code",
   "execution_count": 12,
   "id": "d66cffc6-c228-40ef-a188-7a9996a43f1d",
   "metadata": {},
   "outputs": [],
   "source": [
    "if torch.accelerator.is_available():\n",
    "    device = torch.accelerator.current_accelerator().type\n",
    "    print(device)"
   ]
  },
  {
   "cell_type": "markdown",
   "id": "4a42580a-6293-4b48-9f45-3bcaa03056f6",
   "metadata": {},
   "source": [
    "## Preparing data"
   ]
  },
  {
   "cell_type": "code",
   "execution_count": null,
   "id": "10ba667b-3297-43a1-8be6-a78f962871d9",
   "metadata": {},
   "outputs": [],
   "source": [
    "n_step = 400 #number of datapoints used\n",
    "\n",
    "torch.manual_seed(0)\n",
    "r_tensor = torch.rand(100, 1)\n",
    "T_env_tensor = torch.rand(100, 1) * 500\n",
    "T_0_tensor = T_env_tensor + torch.rand(100, 1) * 100\n",
    "t_tensor = torch.linspace(0, 50, n_step)\n",
    "T_tensor = T_env_tensor - (T_env_tensor - T_0_tensor)*torch.exp(-r_tensor * t_tensor)\n",
    "\n",
    "# Split data into training and test sets\n",
    "r_train, T_env_train, T_0_train, T_train = r_tensor[:80], T_env_tensor[:80], T_0_tensor[:80], T_tensor[:80]\n",
    "X_train = torch.cat((r_train, T_env_train, T_0_train), 1)\n",
    "\n",
    "X_train_mean = X_train.mean(dim=0, keepdim=True)\n",
    "X_train_std = X_train.std(dim=0, keepdim=True)\n",
    "X_train = (X_train - X_train_mean) / X_train_std\n",
    "\n",
    "r_test, T_env_test, T_0_test, T_test = r_tensor[80:], T_env_tensor[80:], T_0_tensor[80:], T_tensor[80:]\n",
    "X_test = torch.cat((r_test, T_env_test, T_0_test), 1)\n",
    "\n",
    "X_test_mean = X_test.mean(dim=0, keepdim=True)\n",
    "X_test_std = X_test.std(dim=0, keepdim=True)\n",
    "X_test = (X_test - X_test_mean) / X_test_std\n",
    "\n",
    "X_train_scaled = (X_train - X_train.min()) / (X_train.max() - X_train.min()) #scaled data\n",
    "T_train_scaled = (T_train - T_train.min()) / (T_train.max() - T_train.min()) #scaled data\n",
    "X_test_scaled = (X_test - X_test.min()) / (X_test.max() - X_test.min()) #scaled data\n",
    "T_test_scaled = (T_test - T_test.min()) / (T_test.max() - T_test.min()) #scaled data\n"
   ]
  },
  {
   "cell_type": "markdown",
   "id": "96c176c4-4cd4-4be9-bcda-c274d49ce1e8",
   "metadata": {},
   "source": [
    "## Defining the model"
   ]
  },
  {
   "cell_type": "code",
   "execution_count": 98,
   "id": "8acd700d-f7ed-4fa5-ae9a-252e22acd5a4",
   "metadata": {},
   "outputs": [],
   "source": [
    "\"\"\"\n",
    "class CoolingModel(nn.Module):\n",
    "    def __init__(self, n_step):\n",
    "        super().__init__()\n",
    "        self.linear = nn.Linear(in_features=3, out_features=n_step)\n",
    "\n",
    "    def forward(self, x):\n",
    "        return self.linear(x)\n",
    "\"\"\"\n",
    "\n",
    "class CoolingModel(nn.Module):\n",
    "    def __init__(self, n_step):\n",
    "        super().__init__()\n",
    "        self.fc1 = nn.Linear(3, 64)    # more neurons\n",
    "        self.fc2 = nn.Linear(64, n_step)  # added hidden layer\n",
    "\n",
    "    def forward(self, x):\n",
    "        x = torch.tanh(self.fc1(x))     # smooth activation\n",
    "        x = self.fc2(x)\n",
    "        return x\n",
    "\n",
    "# Initiate the model\n",
    "model = CoolingModel(n_step)"
   ]
  },
  {
   "cell_type": "code",
   "execution_count": 99,
   "id": "01343c36-5fb4-4a41-a8b2-c3b3e0dfba81",
   "metadata": {},
   "outputs": [],
   "source": [
    "# Loss function and optimizer\n",
    "loss_func = nn.MSELoss()\n",
    "\n",
    "#optimizer = optim.SGD(model.parameters(), lr=0.01)\n",
    "#optimizer = optim.Adam(model.parameters(), lr=0.001) #New optimizer\n",
    "optimizer = optim.Adam(model.parameters(), lr=1e-3, weight_decay=1e-4)"
   ]
  },
  {
   "cell_type": "markdown",
   "id": "ffb01266-0334-432b-a09a-9f6c63aec488",
   "metadata": {},
   "source": [
    "## Train the model"
   ]
  },
  {
   "cell_type": "code",
   "execution_count": 100,
   "id": "3bf7bd16-d8b6-430d-832d-7ce7969b854e",
   "metadata": {},
   "outputs": [
    {
     "name": "stdout",
     "output_type": "stream",
     "text": [
      "Epoch 100/5000, Loss: 0.0024\n",
      "Epoch 200/5000, Loss: 0.0009\n",
      "Epoch 300/5000, Loss: 0.0007\n",
      "Epoch 400/5000, Loss: 0.0007\n",
      "Epoch 500/5000, Loss: 0.0006\n",
      "Epoch 600/5000, Loss: 0.0005\n",
      "Epoch 700/5000, Loss: 0.0005\n",
      "Epoch 800/5000, Loss: 0.0005\n",
      "Epoch 900/5000, Loss: 0.0005\n",
      "Epoch 1000/5000, Loss: 0.0004\n",
      "Epoch 1100/5000, Loss: 0.0004\n",
      "Epoch 1200/5000, Loss: 0.0004\n",
      "Epoch 1300/5000, Loss: 0.0004\n",
      "Epoch 1400/5000, Loss: 0.0004\n",
      "Epoch 1500/5000, Loss: 0.0004\n",
      "Epoch 1600/5000, Loss: 0.0003\n",
      "Epoch 1700/5000, Loss: 0.0003\n",
      "Epoch 1800/5000, Loss: 0.0003\n",
      "Epoch 1900/5000, Loss: 0.0003\n",
      "Epoch 2000/5000, Loss: 0.0003\n",
      "Epoch 2100/5000, Loss: 0.0003\n",
      "Epoch 2200/5000, Loss: 0.0003\n",
      "Epoch 2300/5000, Loss: 0.0003\n",
      "Epoch 2400/5000, Loss: 0.0003\n",
      "Epoch 2500/5000, Loss: 0.0003\n",
      "Epoch 2600/5000, Loss: 0.0003\n",
      "Epoch 2700/5000, Loss: 0.0003\n",
      "Epoch 2800/5000, Loss: 0.0003\n",
      "Epoch 2900/5000, Loss: 0.0003\n",
      "Epoch 3000/5000, Loss: 0.0003\n",
      "Epoch 3100/5000, Loss: 0.0003\n",
      "Epoch 3200/5000, Loss: 0.0003\n",
      "Epoch 3300/5000, Loss: 0.0003\n",
      "Epoch 3400/5000, Loss: 0.0003\n",
      "Epoch 3500/5000, Loss: 0.0003\n",
      "Epoch 3600/5000, Loss: 0.0003\n",
      "Epoch 3700/5000, Loss: 0.0003\n",
      "Epoch 3800/5000, Loss: 0.0003\n",
      "Epoch 3900/5000, Loss: 0.0003\n",
      "Epoch 4000/5000, Loss: 0.0003\n",
      "Epoch 4100/5000, Loss: 0.0003\n",
      "Epoch 4200/5000, Loss: 0.0003\n",
      "Epoch 4300/5000, Loss: 0.0003\n",
      "Epoch 4400/5000, Loss: 0.0003\n",
      "Epoch 4500/5000, Loss: 0.0003\n",
      "Epoch 4600/5000, Loss: 0.0003\n",
      "Epoch 4700/5000, Loss: 0.0003\n",
      "Epoch 4800/5000, Loss: 0.0003\n",
      "Epoch 4900/5000, Loss: 0.0003\n",
      "Epoch 5000/5000, Loss: 0.0003\n"
     ]
    }
   ],
   "source": [
    "epochs = 5000\n",
    "\n",
    "for epoch in range(epochs):\n",
    "    T_pred = model(X_train_scaled)\n",
    "    \n",
    "    loss = loss_func(T_pred, T_train_scaled)\n",
    "\n",
    "    optimizer.zero_grad()\n",
    "    loss.backward()\n",
    "    \n",
    "    optimizer.step()\n",
    "\n",
    "    if (epoch+1) % 100 == 0:\n",
    "        print(f'Epoch {epoch+1}/{epochs}, Loss: {loss.item():.4f}')"
   ]
  },
  {
   "cell_type": "code",
   "execution_count": 101,
   "id": "f2ace561-8307-4442-8a95-cc4a15ec99ce",
   "metadata": {},
   "outputs": [
    {
     "name": "stdout",
     "output_type": "stream",
     "text": [
      "Test Loss: 0.0035\n"
     ]
    }
   ],
   "source": [
    "model.eval()\n",
    "with torch.no_grad():\n",
    "    T_pred_test = model(X_test_scaled)\n",
    "    test_loss = loss_func(T_pred_test, T_test_scaled)\n",
    "    print(f\"Test Loss: {test_loss.item():.4f}\")"
   ]
  },
  {
   "cell_type": "code",
   "execution_count": 102,
   "id": "b788f9af-ab10-44f8-866f-0c3e45def559",
   "metadata": {},
   "outputs": [
    {
     "name": "stdout",
     "output_type": "stream",
     "text": [
      "fc1.weight tensor([[-0.0029, -0.4327, -0.1515],\n",
      "        [ 0.0142, -0.4234, -0.1540],\n",
      "        [-0.0141,  0.4287,  0.1538],\n",
      "        [ 0.0197, -0.4389, -0.1549],\n",
      "        [ 0.0097, -0.4176, -0.1527],\n",
      "        [ 0.0306, -0.4290, -0.1557],\n",
      "        [-0.0092,  0.4240,  0.1532],\n",
      "        [ 0.0145, -0.4394, -0.1535],\n",
      "        [-0.0134,  0.5530,  0.1672],\n",
      "        [-0.0120,  0.4240,  0.1532],\n",
      "        [-0.0999, -0.4043, -0.1308],\n",
      "        [-0.0110, -0.4143, -0.1506],\n",
      "        [-0.0085,  0.4222,  0.1524],\n",
      "        [ 0.0177, -0.4286, -0.1545],\n",
      "        [ 0.0020,  0.4261,  0.1503],\n",
      "        [-0.0058,  0.4303,  0.1527],\n",
      "        [-0.0022, -0.4124, -0.1525],\n",
      "        [ 0.0266,  0.3985,  0.1454],\n",
      "        [-0.0010,  0.4264,  0.1517],\n",
      "        [-0.0148, -0.4150, -0.1497],\n",
      "        [ 0.0122, -0.4329, -0.1538],\n",
      "        [-0.0072,  0.4466,  0.1536],\n",
      "        [ 0.0799, -0.4833, -0.1658],\n",
      "        [-0.0306, -0.4051, -0.1473],\n",
      "        [ 0.0075, -0.4247, -0.1523],\n",
      "        [-0.0430,  0.4501,  0.1592],\n",
      "        [-0.0137,  0.4274,  0.1536],\n",
      "        [-0.0406,  0.4506,  0.1589],\n",
      "        [-0.0148,  0.4320,  0.1541],\n",
      "        [ 0.0437,  0.3682,  0.1558],\n",
      "        [ 0.0305, -0.4496, -0.1567],\n",
      "        [-0.0300, -0.3652, -0.1280],\n",
      "        [ 0.0178, -0.4258, -0.1545],\n",
      "        [-0.0081,  0.4623,  0.1522],\n",
      "        [-0.0192,  0.4268,  0.1543],\n",
      "        [-0.1513,  0.5193,  0.1817],\n",
      "        [-0.0322, -0.3594, -0.1542],\n",
      "        [-0.0827,  0.5125,  0.1653],\n",
      "        [-0.0022, -0.4423, -0.1516],\n",
      "        [-0.0223,  0.4217,  0.1542],\n",
      "        [ 0.0244, -0.4130, -0.1534],\n",
      "        [ 0.0134, -0.4209, -0.1539],\n",
      "        [ 0.0140, -0.4279, -0.1537],\n",
      "        [ 0.0400, -0.4641, -0.1497],\n",
      "        [ 0.0434, -0.4147, -0.1604],\n",
      "        [ 0.0086, -0.4050, -0.1513],\n",
      "        [ 0.0185, -0.4338, -0.1548],\n",
      "        [-0.0342,  0.4087,  0.1569],\n",
      "        [-0.0042,  0.4273,  0.1524],\n",
      "        [ 0.0331, -0.4278, -0.1621],\n",
      "        [ 0.0021,  0.4360,  0.1520],\n",
      "        [ 0.0303, -0.4176, -0.1410],\n",
      "        [-0.0086, -0.3389, -0.1754],\n",
      "        [ 0.0879, -0.5627, -0.1745],\n",
      "        [ 0.0172, -0.4290, -0.1542],\n",
      "        [ 0.0167, -0.4146, -0.1562],\n",
      "        [ 0.0011, -0.4252, -0.1519],\n",
      "        [-0.0084,  0.4011,  0.1507],\n",
      "        [ 0.0298, -0.4110, -0.1542],\n",
      "        [ 0.0172, -0.4204, -0.1538],\n",
      "        [ 0.0212, -0.5135, -0.1634],\n",
      "        [-0.0056,  0.4355,  0.1528],\n",
      "        [-0.0099,  0.4322,  0.1531],\n",
      "        [ 0.0010, -0.4188, -0.1514]])\n",
      "fc1.bias tensor([ 0.0468,  0.0333, -0.0381,  0.0470,  0.0287,  0.0336, -0.0352,  0.0478,\n",
      "        -0.1820, -0.0335,  0.0447,  0.0321, -0.0323,  0.0373, -0.0388, -0.0419,\n",
      "         0.0286, -0.0132, -0.0390,  0.0333,  0.0428, -0.0588,  0.0793,  0.0275,\n",
      "         0.0349, -0.0538, -0.0366, -0.0547, -0.0413, -0.0088,  0.0546, -0.0435,\n",
      "         0.0345, -0.0718, -0.0342, -0.1064, -0.0030, -0.1059,  0.0564, -0.0276,\n",
      "         0.0158,  0.0311,  0.0370,  0.0578,  0.0198,  0.0126,  0.0424, -0.0118,\n",
      "        -0.0396,  0.0383, -0.0506,  0.0060, -0.0116,  0.1648,  0.0374,  0.0251,\n",
      "         0.0384, -0.0086,  0.0131,  0.0285,  0.1312, -0.0471, -0.0424,  0.0313])\n",
      "fc2.weight tensor([[-0.0298, -0.0286,  0.0284,  ...,  0.0289,  0.0286, -0.0299],\n",
      "        [-0.0291, -0.0285,  0.0283,  ...,  0.0285,  0.0284, -0.0294],\n",
      "        [-0.0285, -0.0283,  0.0282,  ...,  0.0282,  0.0282, -0.0288],\n",
      "        ...,\n",
      "        [-0.0282, -0.0270,  0.0273,  ...,  0.0280,  0.0277, -0.0273],\n",
      "        [-0.0282, -0.0270,  0.0273,  ...,  0.0280,  0.0277, -0.0273],\n",
      "        [-0.0283, -0.0269,  0.0272,  ...,  0.0281,  0.0277, -0.0273]])\n",
      "fc2.bias tensor([0.0770, 0.0744, 0.0723, 0.0701, 0.0680, 0.0663, 0.0644, 0.0625, 0.0610,\n",
      "        0.0594, 0.0578, 0.0565, 0.0551, 0.0538, 0.0525, 0.0513, 0.0502, 0.0491,\n",
      "        0.0480, 0.0469, 0.0459, 0.0450, 0.0441, 0.0433, 0.0424, 0.0418, 0.0408,\n",
      "        0.0401, 0.0394, 0.0386, 0.0381, 0.0372, 0.0368, 0.0360, 0.0354, 0.0348,\n",
      "        0.0344, 0.0338, 0.0334, 0.0327, 0.0323, 0.0318, 0.0313, 0.0309, 0.0304,\n",
      "        0.0302, 0.0296, 0.0292, 0.0290, 0.0285, 0.0280, 0.0279, 0.0276, 0.0270,\n",
      "        0.0268, 0.0266, 0.0260, 0.0259, 0.0259, 0.0253, 0.0250, 0.0247, 0.0244,\n",
      "        0.0243, 0.0238, 0.0237, 0.0234, 0.0232, 0.0229, 0.0227, 0.0227, 0.0225,\n",
      "        0.0221, 0.0219, 0.0216, 0.0216, 0.0213, 0.0211, 0.0211, 0.0207, 0.0206,\n",
      "        0.0205, 0.0204, 0.0200, 0.0201, 0.0198, 0.0196, 0.0196, 0.0194, 0.0191,\n",
      "        0.0190, 0.0189, 0.0187, 0.0188, 0.0186, 0.0185, 0.0184, 0.0181, 0.0181,\n",
      "        0.0179, 0.0178, 0.0176, 0.0176, 0.0174, 0.0176, 0.0172, 0.0172, 0.0171,\n",
      "        0.0169, 0.0170, 0.0168, 0.0167, 0.0166, 0.0164, 0.0165, 0.0162, 0.0163,\n",
      "        0.0162, 0.0160, 0.0159, 0.0162, 0.0160, 0.0157, 0.0156, 0.0157, 0.0156,\n",
      "        0.0155, 0.0153, 0.0152, 0.0151, 0.0153, 0.0151, 0.0149, 0.0150, 0.0148,\n",
      "        0.0147, 0.0148, 0.0147, 0.0146, 0.0147, 0.0145, 0.0144, 0.0144, 0.0143,\n",
      "        0.0142, 0.0142, 0.0141, 0.0141, 0.0141, 0.0142, 0.0139, 0.0142, 0.0139,\n",
      "        0.0139, 0.0138, 0.0137, 0.0138, 0.0137, 0.0136, 0.0135, 0.0135, 0.0134,\n",
      "        0.0134, 0.0133, 0.0133, 0.0133, 0.0133, 0.0132, 0.0133, 0.0131, 0.0130,\n",
      "        0.0130, 0.0131, 0.0131, 0.0130, 0.0128, 0.0128, 0.0128, 0.0127, 0.0127,\n",
      "        0.0126, 0.0128, 0.0126, 0.0127, 0.0127, 0.0127, 0.0126, 0.0125, 0.0126,\n",
      "        0.0125, 0.0124, 0.0129, 0.0125, 0.0123, 0.0122, 0.0124, 0.0123, 0.0122,\n",
      "        0.0122, 0.0123, 0.0121, 0.0120, 0.0120, 0.0121, 0.0121, 0.0120, 0.0119,\n",
      "        0.0119, 0.0119, 0.0118, 0.0118, 0.0118, 0.0119, 0.0119, 0.0117, 0.0117,\n",
      "        0.0117, 0.0117, 0.0116, 0.0116, 0.0116, 0.0116, 0.0116, 0.0115, 0.0115,\n",
      "        0.0116, 0.0115, 0.0114, 0.0115, 0.0114, 0.0113, 0.0113, 0.0116, 0.0113,\n",
      "        0.0114, 0.0113, 0.0114, 0.0112, 0.0114, 0.0111, 0.0112, 0.0112, 0.0112,\n",
      "        0.0111, 0.0111, 0.0110, 0.0110, 0.0112, 0.0111, 0.0110, 0.0112, 0.0111,\n",
      "        0.0111, 0.0110, 0.0110, 0.0111, 0.0109, 0.0109, 0.0108, 0.0109, 0.0108,\n",
      "        0.0109, 0.0107, 0.0109, 0.0109, 0.0107, 0.0107, 0.0107, 0.0107, 0.0107,\n",
      "        0.0107, 0.0107, 0.0107, 0.0106, 0.0106, 0.0106, 0.0106, 0.0108, 0.0108,\n",
      "        0.0105, 0.0106, 0.0108, 0.0106, 0.0107, 0.0105, 0.0107, 0.0104, 0.0104,\n",
      "        0.0104, 0.0104, 0.0103, 0.0106, 0.0104, 0.0104, 0.0105, 0.0103, 0.0104,\n",
      "        0.0104, 0.0103, 0.0103, 0.0104, 0.0103, 0.0103, 0.0103, 0.0102, 0.0101,\n",
      "        0.0103, 0.0104, 0.0103, 0.0102, 0.0103, 0.0101, 0.0100, 0.0103, 0.0102,\n",
      "        0.0102, 0.0101, 0.0103, 0.0100, 0.0100, 0.0100, 0.0101, 0.0101, 0.0099,\n",
      "        0.0101, 0.0100, 0.0102, 0.0101, 0.0104, 0.0100, 0.0099, 0.0099, 0.0099,\n",
      "        0.0099, 0.0100, 0.0099, 0.0099, 0.0098, 0.0098, 0.0099, 0.0099, 0.0100,\n",
      "        0.0099, 0.0098, 0.0097, 0.0100, 0.0099, 0.0098, 0.0097, 0.0098, 0.0097,\n",
      "        0.0098, 0.0099, 0.0098, 0.0097, 0.0097, 0.0099, 0.0097, 0.0105, 0.0098,\n",
      "        0.0097, 0.0097, 0.0097, 0.0097, 0.0096, 0.0095, 0.0096, 0.0097, 0.0096,\n",
      "        0.0096, 0.0095, 0.0096, 0.0096, 0.0095, 0.0096, 0.0094, 0.0096, 0.0095,\n",
      "        0.0095, 0.0095, 0.0094, 0.0096, 0.0095, 0.0097, 0.0095, 0.0094, 0.0095,\n",
      "        0.0093, 0.0094, 0.0094, 0.0094, 0.0096, 0.0094, 0.0098, 0.0094, 0.0096,\n",
      "        0.0094, 0.0093, 0.0093, 0.0095])\n"
     ]
    }
   ],
   "source": [
    "for name, param in model.named_parameters():\n",
    "    print(name, param.data)"
   ]
  },
  {
   "cell_type": "code",
   "execution_count": 103,
   "id": "7a8195a8-3db2-4f4b-89ba-8cc6ecf969d8",
   "metadata": {},
   "outputs": [
    {
     "data": {
      "image/png": "[encoded data removed]",
      "text/plain": [
       "<Figure size 640x480 with 1 Axes>"
      ]
     },
     "metadata": {},
     "output_type": "display_data"
    }
   ],
   "source": [
    "plt.scatter(t_tensor, T_test_scaled[-1], label=\"True Data\")\n",
    "plt.plot(t_tensor, T_pred_test[-1], color=\"red\", label=\"Predictions\")\n",
    "plt.legend()\n",
    "plt.show()"
   ]
  },
  {
   "cell_type": "code",
   "execution_count": null,
   "id": "91a1a5d8-2c2f-47b0-9c0f-30f1746aed9d",
   "metadata": {},
   "outputs": [],
   "source": []
  }
 ],
 "metadata": {
  "kernelspec": {
   "display_name": "Python (ML_WSL_env)",
   "language": "python",
   "name": "ml_wsl_env"
  },
  "language_info": {
   "codemirror_mode": {
    "name": "ipython",
    "version": 3
   },
   "file_extension": ".py",
   "mimetype": "text/x-python",
   "name": "python",
   "nbconvert_exporter": "python",
   "pygments_lexer": "ipython3",
   "version": "3.12.3"
  }
 },
 "nbformat": 4,
 "nbformat_minor": 5
}
