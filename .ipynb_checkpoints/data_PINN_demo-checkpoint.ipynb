{
 "cells": [
  {
   "cell_type": "code",
   "execution_count": 1,
   "id": "2d31a47c-5174-4376-aee6-c8b749356ee1",
   "metadata": {},
   "outputs": [],
   "source": [
    "import numpy as np\n",
    "import scipy as sp\n",
    "import math\n",
    "import torch\n",
    "import matplotlib.pyplot as plt\n",
    "import inspect\n",
    "import textwrap\n",
    "\n",
    "from typing import Callable\n",
    "from torch import nn, optim\n",
    "from data_PINN import diffeq, create_trainig_test_set\n",
    "\n",
    "import torch.nn.functional as F"
   ]
  },
  {
   "cell_type": "code",
   "execution_count": 2,
   "id": "02ee4fc9-ced8-4075-ae30-a90e81c984ad",
   "metadata": {},
   "outputs": [],
   "source": [
    "def f(t,x,w):\n",
    "    #write the function that is on the other side of the differential equation\n",
    "    return -w*x\n",
    "\n",
    "def differential_equation_1_order(t, x, w):\n",
    "    dx_dt = f(t,x,w)\n",
    "    return dx_dt\n",
    "\n",
    "def differential_equation_2_order(t, X, w):\n",
    "    #rewrite d^2x/dt^2 as dy/dt where y=dx/dt\n",
    "    x, y = X\n",
    "    dx_dt = y\n",
    "    dy_dt = f(t,x,w)\n",
    "\n",
    "    return [dx_dt, dy_dt]"
   ]
  },
  {
   "cell_type": "code",
   "execution_count": 8,
   "id": "5755417a-4db4-4137-88ef-b5e6444c7559",
   "metadata": {},
   "outputs": [],
   "source": [
    "cooling_deq = diffeq(differential_equation_2_order, 2, 1)\n",
    "\n",
    "train, test = create_trainig_test_set(cooling_deq, (0, 10), 100, 1000, 0.3, \"RK45\", seed=0)"
   ]
  },
  {
   "cell_type": "code",
   "execution_count": 9,
   "id": "1aa297b4-1e56-43a7-abbc-4e0cd4754f2c",
   "metadata": {},
   "outputs": [
    {
     "name": "stdout",
     "output_type": "stream",
     "text": [
      "torch.Size([700, 100, 4])\n",
      "torch.Size([700, 100, 1])\n",
      "torch.Size([700, 100])\n"
     ]
    }
   ],
   "source": [
    "print(train[\"X\"].shape)\n",
    "print(train[\"y_tensor\"][0:, 0:, 0].unsqueeze(-1).shape)\n",
    "\n",
    "print(train[\"y_tensor\"][0:, 0:, 0].shape)"
   ]
  },
  {
   "cell_type": "code",
   "execution_count": 11,
   "id": "9324a651-e727-4074-90bc-88fdd9690334",
   "metadata": {},
   "outputs": [],
   "source": [
    "if torch.accelerator.is_available():\n",
    "    device = torch.accelerator.current_accelerator().type\n",
    "    print(device)"
   ]
  },
  {
   "cell_type": "code",
   "execution_count": 20,
   "id": "ff448d4a-50c6-4965-b5aa-54a804b0af6a",
   "metadata": {},
   "outputs": [],
   "source": [
    "class CoolingModel(nn.Module):\n",
    "    def __init__(self, n_step):\n",
    "        super().__init__()\n",
    "        self.linear = nn.Linear(in_features=n_step, out_features=32)\n",
    "        self.linear2 = nn.Linear(32, 1)\n",
    "\n",
    "    def forward(self, x):\n",
    "        x = F.relu(self.linear(x))\n",
    "        x = self.linear2(x)\n",
    "        return x\n",
    "\n",
    "# Initiate the model\n",
    "model = CoolingModel(4)"
   ]
  },
  {
   "cell_type": "code",
   "execution_count": 21,
   "id": "4c62c9dc-0ef7-4c24-ad2d-efe25aa15eab",
   "metadata": {},
   "outputs": [],
   "source": [
    "loss_func = nn.MSELoss()\n",
    "optimizer = optim.Adam(model.parameters(), lr=0.01)"
   ]
  },
  {
   "cell_type": "code",
   "execution_count": 22,
   "id": "f24db0a0-bbe9-4c44-b3f1-fc9e9a7b0d76",
   "metadata": {},
   "outputs": [
    {
     "name": "stdout",
     "output_type": "stream",
     "text": [
      "Epoch 100/1000, Loss: 0.5122\n",
      "Epoch 200/1000, Loss: 0.2677\n",
      "Epoch 300/1000, Loss: 0.1915\n",
      "Epoch 400/1000, Loss: 0.1449\n",
      "Epoch 500/1000, Loss: 0.1204\n",
      "Epoch 600/1000, Loss: 0.1034\n",
      "Epoch 700/1000, Loss: 0.0925\n",
      "Epoch 800/1000, Loss: 0.0806\n",
      "Epoch 900/1000, Loss: 0.0706\n",
      "Epoch 1000/1000, Loss: 0.0640\n"
     ]
    }
   ],
   "source": [
    "epochs = 1000\n",
    "\n",
    "for epoch in range(epochs):\n",
    "    T_pred = model(train[\"X\"])\n",
    "    \n",
    "    loss = loss_func(T_pred, train[\"y_tensor\"][0:, 0:, 0].unsqueeze(-1))\n",
    "\n",
    "    optimizer.zero_grad()\n",
    "    loss.backward()\n",
    "    \n",
    "    optimizer.step()\n",
    "\n",
    "    if (epoch+1) % (int(epochs/10)) == 0:\n",
    "        print(f'Epoch {epoch+1}/{epochs}, Loss: {loss.item():.4f}')"
   ]
  },
  {
   "cell_type": "code",
   "execution_count": 23,
   "id": "a619ebc7-eb00-4764-b671-a87cf6810bf3",
   "metadata": {},
   "outputs": [
    {
     "name": "stdout",
     "output_type": "stream",
     "text": [
      "tensor([[[ 1.0453],\n",
      "         [ 1.0643],\n",
      "         [ 1.0820],\n",
      "         ...,\n",
      "         [-0.2690],\n",
      "         [-0.2278],\n",
      "         [-0.1867]],\n",
      "\n",
      "        [[ 0.5584],\n",
      "         [ 0.5780],\n",
      "         [ 0.5975],\n",
      "         ...,\n",
      "         [ 0.5177],\n",
      "         [ 0.5061],\n",
      "         [ 0.4946]],\n",
      "\n",
      "        [[ 0.5387],\n",
      "         [ 0.5583],\n",
      "         [ 0.5851],\n",
      "         ...,\n",
      "         [ 1.7541],\n",
      "         [ 1.7528],\n",
      "         [ 1.7804]],\n",
      "\n",
      "        ...,\n",
      "\n",
      "        [[ 0.6063],\n",
      "         [ 0.6237],\n",
      "         [ 0.6412],\n",
      "         ...,\n",
      "         [ 0.3758],\n",
      "         [ 0.4170],\n",
      "         [ 0.4095]],\n",
      "\n",
      "        [[ 1.2103],\n",
      "         [ 1.1704],\n",
      "         [ 1.1306],\n",
      "         ...,\n",
      "         [ 0.4824],\n",
      "         [ 0.4708],\n",
      "         [ 0.4593]],\n",
      "\n",
      "        [[ 0.0188],\n",
      "         [-0.0024],\n",
      "         [-0.0236],\n",
      "         ...,\n",
      "         [ 0.2170],\n",
      "         [ 0.2055],\n",
      "         [ 0.1939]]])\n",
      "Test Loss: 0.0681\n"
     ]
    }
   ],
   "source": [
    "model.eval()\n",
    "with torch.no_grad():\n",
    "    T_pred_test = model(test[\"X\"])\n",
    "    print(T_pred_test)\n",
    "    test_loss = loss_func(T_pred_test, test[\"y_tensor\"][0:, 0:, 0].unsqueeze(-1))\n",
    "    print(f\"Test Loss: {test_loss.item():.4f}\")"
   ]
  },
  {
   "cell_type": "code",
   "execution_count": 25,
   "id": "680dec6a-05ee-4bf9-a6d2-3137636eaf9f",
   "metadata": {},
   "outputs": [
    {
     "name": "stdout",
     "output_type": "stream",
     "text": [
      "torch.Size([300, 100, 1])\n"
     ]
    },
    {
     "data": {
      "image/png": "[encoded data removed]",
      "text/plain": [
       "<Figure size 640x480 with 1 Axes>"
      ]
     },
     "metadata": {},
     "output_type": "display_data"
    }
   ],
   "source": [
    "print(T_pred_test.shape)\n",
    "\n",
    "n = 54\n",
    "plt.scatter(test[\"t_tensor\"][n], test[\"y_tensor\"][n][0:, 0], label=\"True Data\")\n",
    "plt.plot(test[\"t_tensor\"][n], T_pred_test[n], color=\"red\", label=\"Predictions\")\n",
    "plt.legend()\n",
    "plt.show()"
   ]
  },
  {
   "cell_type": "code",
   "execution_count": null,
   "id": "9bf9f507-6b8e-45b8-ad1e-f10231769706",
   "metadata": {},
   "outputs": [],
   "source": []
  }
 ],
 "metadata": {
  "kernelspec": {
   "display_name": "Python 3 (ipykernel)",
   "language": "python",
   "name": "python3"
  },
  "language_info": {
   "codemirror_mode": {
    "name": "ipython",
    "version": 3
   },
   "file_extension": ".py",
   "mimetype": "text/x-python",
   "name": "python",
   "nbconvert_exporter": "python",
   "pygments_lexer": "ipython3",
   "version": "3.12.3"
  }
 },
 "nbformat": 4,
 "nbformat_minor": 5
}
