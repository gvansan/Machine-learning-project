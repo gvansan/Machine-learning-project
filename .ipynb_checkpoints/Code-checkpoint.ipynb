{
 "cells": [
  {
   "cell_type": "code",
   "execution_count": 1,
   "id": "ec0e1498",
   "metadata": {},
   "outputs": [],
   "source": [
    "import os\n",
    "import torch\n",
    "from torch import nn, optim\n",
    "import numpy as np\n",
    "import matplotlib.pyplot as plt\n",
    "\n",
    "from diffEq import odes, plot"
   ]
  },
  {
   "cell_type": "markdown",
   "id": "866bb3e6-f725-448e-b1d5-5d580953a751",
   "metadata": {},
   "source": [
    "## Test differential equation:\n",
    "\n",
    "$\\frac{dT(t)}{dt} = r(T_{env} - T(t))$\n",
    "\n"
   ]
  },
  {
   "cell_type": "code",
   "execution_count": 2,
   "id": "28db0f35-43ff-4017-b333-df8f7d0b7fa6",
   "metadata": {},
   "outputs": [
    {
     "data": {
      "image/png": "[encoded data removed]",
      "text/plain": [
       "<Figure size 640x480 with 1 Axes>"
      ]
     },
     "metadata": {},
     "output_type": "display_data"
    }
   ],
   "source": [
    "r = 1\n",
    "T_env = 300\n",
    "\n",
    "# args = [T]\n",
    "def DT(t, args):\n",
    "    return r*(T_env - args[0])\n",
    "\n",
    "cooling_obj = odes([DT], [370])\n",
    "\n",
    "t_list, T_list = cooling_obj.solve_Runge_Kutta(0, 10, h=0.1, stage=4)\n",
    "solutions = {\"RK4\": (t_list, T_list)}\n",
    "\n",
    "plot(solutions)"
   ]
  },
  {
   "cell_type": "markdown",
   "id": "0b1c62b7-fc8f-42b3-ae15-c7960600869d",
   "metadata": {},
   "source": [
    "## Getting device for training"
   ]
  },
  {
   "cell_type": "code",
   "execution_count": 3,
   "id": "d66cffc6-c228-40ef-a188-7a9996a43f1d",
   "metadata": {},
   "outputs": [
    {
     "name": "stdout",
     "output_type": "stream",
     "text": [
      "cuda\n"
     ]
    }
   ],
   "source": [
    "if torch.accelerator.is_available():\n",
    "    device = torch.accelerator.current_accelerator().type\n",
    "    print(device)"
   ]
  },
  {
   "cell_type": "markdown",
   "id": "4a42580a-6293-4b48-9f45-3bcaa03056f6",
   "metadata": {},
   "source": [
    "## Preparing data"
   ]
  },
  {
   "cell_type": "code",
   "execution_count": 4,
   "id": "10ba667b-3297-43a1-8be6-a78f962871d9",
   "metadata": {},
   "outputs": [],
   "source": [
    "n_step = 20\n",
    "\n",
    "torch.manual_seed(0)\n",
    "r_tensor = torch.rand(100, 1)\n",
    "T_env_tensor = torch.rand(100, 1) * 500\n",
    "T_0_tensor = T_env_tensor + torch.rand(100, 1) * 100\n",
    "t_tensor = torch.linspace(0, 50, n_step)\n",
    "T_tensor = T_env_tensor - (T_env_tensor - T_0_tensor)*torch.exp(-r_tensor * t_tensor)\n",
    "\n",
    "# Split data into training and test sets\n",
    "r_train, T_env_train, T_0_train, T_train = r_tensor[:80], T_env_tensor[:80], T_0_tensor[:80], T_tensor[:80]\n",
    "X_train = torch.cat((r_train, T_env_train, T_0_train), 1)\n",
    "\n",
    "X_train_mean = X_train.mean(dim=0, keepdim=True)\n",
    "X_train_std = X_train.std(dim=0, keepdim=True)\n",
    "X_train = (X_train - X_train_mean) / X_train_std\n",
    "\n",
    "r_test, T_env_test, T_0_test, T_test = r_tensor[80:], T_env_tensor[80:], T_0_tensor[80:], T_tensor[80:]\n",
    "X_test = torch.cat((r_test, T_env_test, T_0_test), 1)\n",
    "\n",
    "X_test_mean = X_test.mean(dim=0, keepdim=True)\n",
    "X_test_std = X_test.std(dim=0, keepdim=True)\n",
    "X_test = (X_test - X_test_mean) / X_test_std"
   ]
  },
  {
   "cell_type": "markdown",
   "id": "96c176c4-4cd4-4be9-bcda-c274d49ce1e8",
   "metadata": {},
   "source": [
    "## Defining the model"
   ]
  },
  {
   "cell_type": "code",
   "execution_count": 5,
   "id": "8acd700d-f7ed-4fa5-ae9a-252e22acd5a4",
   "metadata": {},
   "outputs": [],
   "source": [
    "class CoolingModel(nn.Module):\n",
    "    def __init__(self, n_step):\n",
    "        super().__init__()\n",
    "        self.linear = nn.Linear(in_features=3, out_features=n_step)\n",
    "\n",
    "    def forward(self, x):\n",
    "        return self.linear(x)\n",
    "\n",
    "# Initiate the model\n",
    "model = CoolingModel(n_step)"
   ]
  },
  {
   "cell_type": "code",
   "execution_count": 6,
   "id": "01343c36-5fb4-4a41-a8b2-c3b3e0dfba81",
   "metadata": {},
   "outputs": [],
   "source": [
    "# Loss function and optimizer\n",
    "loss_func = nn.MSELoss()\n",
    "optimizer = optim.SGD(model.parameters(), lr=0.01)"
   ]
  },
  {
   "cell_type": "markdown",
   "id": "ffb01266-0334-432b-a09a-9f6c63aec488",
   "metadata": {},
   "source": [
    "## Train the model"
   ]
  },
  {
   "cell_type": "code",
   "execution_count": 7,
   "id": "3bf7bd16-d8b6-430d-832d-7ce7969b854e",
   "metadata": {},
   "outputs": [
    {
     "name": "stdout",
     "output_type": "stream",
     "text": [
      "Epoch 100/10000, Loss: 57730.1992\n",
      "Epoch 200/10000, Loss: 45294.7188\n",
      "Epoch 300/10000, Loss: 35778.6875\n",
      "Epoch 400/10000, Loss: 28432.0098\n",
      "Epoch 500/10000, Loss: 22713.8945\n",
      "Epoch 600/10000, Loss: 18230.5371\n",
      "Epoch 700/10000, Loss: 14692.2510\n",
      "Epoch 800/10000, Loss: 11883.7188\n",
      "Epoch 900/10000, Loss: 9643.2695\n",
      "Epoch 1000/10000, Loss: 7848.2881\n",
      "Epoch 1100/10000, Loss: 6404.9106\n",
      "Epoch 1200/10000, Loss: 5240.6479\n",
      "Epoch 1300/10000, Loss: 4299.0518\n",
      "Epoch 1400/10000, Loss: 3535.8547\n",
      "Epoch 1500/10000, Loss: 2916.1174\n",
      "Epoch 1600/10000, Loss: 2412.0925\n",
      "Epoch 1700/10000, Loss: 2001.6439\n",
      "Epoch 1800/10000, Loss: 1667.0345\n",
      "Epoch 1900/10000, Loss: 1394.0012\n",
      "Epoch 2000/10000, Loss: 1171.0398\n",
      "Epoch 2100/10000, Loss: 988.8442\n",
      "Epoch 2200/10000, Loss: 839.8748\n",
      "Epoch 2300/10000, Loss: 718.0076\n",
      "Epoch 2400/10000, Loss: 618.2628\n",
      "Epoch 2500/10000, Loss: 536.5860\n",
      "Epoch 2600/10000, Loss: 469.6728\n",
      "Epoch 2700/10000, Loss: 414.8283\n",
      "Epoch 2800/10000, Loss: 369.8528\n",
      "Epoch 2900/10000, Loss: 332.9493\n",
      "Epoch 3000/10000, Loss: 302.6496\n",
      "Epoch 3100/10000, Loss: 277.7536\n",
      "Epoch 3200/10000, Loss: 257.2798\n",
      "Epoch 3300/10000, Loss: 240.4260\n",
      "Epoch 3400/10000, Loss: 226.5353\n",
      "Epoch 3500/10000, Loss: 215.0703\n",
      "Epoch 3600/10000, Loss: 205.5916\n",
      "Epoch 3700/10000, Loss: 197.7392\n",
      "Epoch 3800/10000, Loss: 191.2186\n",
      "Epoch 3900/10000, Loss: 185.7888\n",
      "Epoch 4000/10000, Loss: 181.2523\n",
      "Epoch 4100/10000, Loss: 177.4476\n",
      "Epoch 4200/10000, Loss: 174.2425\n",
      "Epoch 4300/10000, Loss: 171.5286\n",
      "Epoch 4400/10000, Loss: 169.2172\n",
      "Epoch 4500/10000, Loss: 167.2358\n",
      "Epoch 4600/10000, Loss: 165.5248\n",
      "Epoch 4700/10000, Loss: 164.0357\n",
      "Epoch 4800/10000, Loss: 162.7285\n",
      "Epoch 4900/10000, Loss: 161.5705\n",
      "Epoch 5000/10000, Loss: 160.5352\n",
      "Epoch 5100/10000, Loss: 159.6004\n",
      "Epoch 5200/10000, Loss: 158.7484\n",
      "Epoch 5300/10000, Loss: 157.9646\n",
      "Epoch 5400/10000, Loss: 157.2368\n",
      "Epoch 5500/10000, Loss: 156.5551\n",
      "Epoch 5600/10000, Loss: 155.9115\n",
      "Epoch 5700/10000, Loss: 155.2996\n",
      "Epoch 5800/10000, Loss: 154.7137\n",
      "Epoch 5900/10000, Loss: 154.1498\n",
      "Epoch 6000/10000, Loss: 153.6039\n",
      "Epoch 6100/10000, Loss: 153.0733\n",
      "Epoch 6200/10000, Loss: 152.5553\n",
      "Epoch 6300/10000, Loss: 152.0478\n",
      "Epoch 6400/10000, Loss: 151.5493\n",
      "Epoch 6500/10000, Loss: 151.0584\n",
      "Epoch 6600/10000, Loss: 150.5740\n",
      "Epoch 6700/10000, Loss: 150.0953\n",
      "Epoch 6800/10000, Loss: 149.6217\n",
      "Epoch 6900/10000, Loss: 149.1525\n",
      "Epoch 7000/10000, Loss: 148.6869\n",
      "Epoch 7100/10000, Loss: 148.2248\n",
      "Epoch 7200/10000, Loss: 147.7656\n",
      "Epoch 7300/10000, Loss: 147.3094\n",
      "Epoch 7400/10000, Loss: 146.8557\n",
      "Epoch 7500/10000, Loss: 146.4045\n",
      "Epoch 7600/10000, Loss: 145.9556\n",
      "Epoch 7700/10000, Loss: 145.5087\n",
      "Epoch 7800/10000, Loss: 145.0639\n",
      "Epoch 7900/10000, Loss: 144.6209\n",
      "Epoch 8000/10000, Loss: 144.1799\n",
      "Epoch 8100/10000, Loss: 143.7405\n",
      "Epoch 8200/10000, Loss: 143.3031\n",
      "Epoch 8300/10000, Loss: 142.8672\n",
      "Epoch 8400/10000, Loss: 142.4331\n",
      "Epoch 8500/10000, Loss: 142.0006\n",
      "Epoch 8600/10000, Loss: 141.5697\n",
      "Epoch 8700/10000, Loss: 141.1404\n",
      "Epoch 8800/10000, Loss: 140.7126\n",
      "Epoch 8900/10000, Loss: 140.2865\n",
      "Epoch 9000/10000, Loss: 139.8618\n",
      "Epoch 9100/10000, Loss: 139.4387\n",
      "Epoch 9200/10000, Loss: 139.0170\n",
      "Epoch 9300/10000, Loss: 138.5970\n",
      "Epoch 9400/10000, Loss: 138.1784\n",
      "Epoch 9500/10000, Loss: 137.7613\n",
      "Epoch 9600/10000, Loss: 137.3456\n",
      "Epoch 9700/10000, Loss: 136.9316\n",
      "Epoch 9800/10000, Loss: 136.5188\n",
      "Epoch 9900/10000, Loss: 136.1075\n",
      "Epoch 10000/10000, Loss: 135.6976\n"
     ]
    }
   ],
   "source": [
    "epochs = 10000\n",
    "\n",
    "for epoch in range(epochs):\n",
    "    T_pred = model(X_train)\n",
    "    \n",
    "    loss = loss_func(T_pred, T_train)\n",
    "\n",
    "    optimizer.zero_grad()\n",
    "    loss.backward()\n",
    "    \n",
    "    optimizer.step()\n",
    "\n",
    "    if (epoch+1) % 100 == 0:\n",
    "        print(f'Epoch {epoch+1}/{epochs}, Loss: {loss.item():.4f}')"
   ]
  },
  {
   "cell_type": "code",
   "execution_count": 8,
   "id": "f2ace561-8307-4442-8a95-cc4a15ec99ce",
   "metadata": {},
   "outputs": [
    {
     "name": "stdout",
     "output_type": "stream",
     "text": [
      "Test Loss: 1150.1472\n"
     ]
    }
   ],
   "source": [
    "model.eval()\n",
    "with torch.no_grad():\n",
    "    T_pred_test = model(X_test)\n",
    "    test_loss = loss_func(T_pred_test, T_test)\n",
    "    print(f\"Test Loss: {test_loss.item():.4f}\")"
   ]
  },
  {
   "cell_type": "code",
   "execution_count": 9,
   "id": "b788f9af-ab10-44f8-866f-0c3e45def559",
   "metadata": {},
   "outputs": [
    {
     "name": "stdout",
     "output_type": "stream",
     "text": [
      "linear.weight tensor([[  0.9570,  62.1404,  85.5913],\n",
      "        [-11.3431,  78.0270,  68.3146],\n",
      "        [ -9.5313,  81.3505,  64.3914],\n",
      "        [ -7.3597,  82.5270,  62.9930],\n",
      "        [ -5.8363,  83.2068,  62.2213],\n",
      "        [ -4.8054,  83.6674,  61.7218],\n",
      "        [ -4.0904,  84.0481,  61.3277],\n",
      "        [ -3.5832,  84.0002,  61.3764],\n",
      "        [ -3.2005,  84.3929,  60.9909],\n",
      "        [ -2.9084,  84.6145,  60.7798],\n",
      "        [ -2.6901,  83.9804,  61.4285],\n",
      "        [ -2.5013,  84.2063,  61.2154],\n",
      "        [ -2.3424,  84.5223,  60.9120],\n",
      "        [ -2.2112,  84.5395,  60.9073],\n",
      "        [ -2.0941,  84.8057,  60.6520],\n",
      "        [ -1.9995,  84.5206,  60.9489],\n",
      "        [ -1.9094,  84.6926,  60.7872],\n",
      "        [ -1.8352,  84.4150,  61.0749],\n",
      "        [ -1.7598,  84.7413,  60.7568],\n",
      "        [ -1.7021,  84.3408,  61.1666]])\n",
      "linear.bias tensor([273.4877, 241.8234, 233.8139, 230.7174, 229.1387, 228.2055, 227.6056,\n",
      "        227.1972, 226.9064, 226.6909, 226.5255, 226.3946, 226.2879, 226.1989,\n",
      "        226.1232, 226.0577, 226.0002, 225.9493, 225.9036, 225.8625])\n"
     ]
    }
   ],
   "source": [
    "for name, param in model.named_parameters():\n",
    "    print(name, param.data)"
   ]
  },
  {
   "cell_type": "code",
   "execution_count": 10,
   "id": "7a8195a8-3db2-4f4b-89ba-8cc6ecf969d8",
   "metadata": {},
   "outputs": [
    {
     "data": {
      "image/png": "[encoded data removed]",
      "text/plain": [
       "<Figure size 640x480 with 1 Axes>"
      ]
     },
     "metadata": {},
     "output_type": "display_data"
    }
   ],
   "source": [
    "\n",
    "\n",
    "plt.scatter(t_tensor, T_test[-1], label=\"True Data\")\n",
    "plt.plot(t_tensor, T_pred_test[-1], color=\"red\", label=\"Predictions\")\n",
    "plt.legend()\n",
    "plt.show()"
   ]
  },
  {
   "cell_type": "code",
   "execution_count": null,
   "id": "eee35900-218c-4c9f-aa85-5bca8a0f1c8c",
   "metadata": {},
   "outputs": [],
   "source": []
  },
  {
   "cell_type": "code",
   "execution_count": null,
   "id": "91a1a5d8-2c2f-47b0-9c0f-30f1746aed9d",
   "metadata": {},
   "outputs": [],
   "source": []
  }
 ],
 "metadata": {
  "kernelspec": {
   "display_name": "Python 3 (ipykernel)",
   "language": "python",
   "name": "python3"
  },
  "language_info": {
   "codemirror_mode": {
    "name": "ipython",
    "version": 3
   },
   "file_extension": ".py",
   "mimetype": "text/x-python",
   "name": "python",
   "nbconvert_exporter": "python",
   "pygments_lexer": "ipython3",
   "version": "3.12.3"
  }
 },
 "nbformat": 4,
 "nbformat_minor": 5
}
