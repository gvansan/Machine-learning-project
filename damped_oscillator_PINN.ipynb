{
 "cells": [
  {
   "cell_type": "code",
   "execution_count": 1,
   "id": "0c6f8ccc-8aee-424b-b636-3eceb88bd48a",
   "metadata": {},
   "outputs": [],
   "source": [
    "import numpy as np\n",
    "import scipy as sp\n",
    "import math\n",
    "import torch\n",
    "import torch.autograd as autograd\n",
    "import matplotlib.pyplot as plt\n",
    "import inspect\n",
    "import textwrap\n",
    "\n",
    "from typing import Callable\n",
    "from torch import nn, optim\n",
    "from data_PINN import diffeq, create_trainig_test_set\n",
    "\n",
    "import torch.nn.functional as F"
   ]
  },
  {
   "cell_type": "code",
   "execution_count": 2,
   "id": "180a3e1a-eeab-434c-8157-94ac3a89a318",
   "metadata": {},
   "outputs": [],
   "source": [
    "if torch.accelerator.is_available():\n",
    "    device = torch.accelerator.current_accelerator().type\n",
    "    print(device)"
   ]
  },
  {
   "cell_type": "code",
   "execution_count": 3,
   "id": "4878397a-68df-4c5a-a80d-598ec48397a4",
   "metadata": {},
   "outputs": [],
   "source": [
    "#X = [X, dx/dt]\n",
    "def Dx(t, X, m, b, k):\n",
    "    return X[1] \n",
    "\n",
    "def DDx(t, X, m, b, k):\n",
    "    Dx_t = Dx(t, X, m, b, k)\n",
    "    return -(1/m) * (b*Dx_t + k*X[0])\n",
    "\n",
    "def odes(t, X, m, b, k):\n",
    "    DDx_t = DDx(t, X, m, b, k)\n",
    "    Dx_t = Dx(t, X, m, b, k)\n",
    "\n",
    "    return [Dx_t, DDx_t]\n",
    "\n",
    "def f(t, X, m, b, k):\n",
    "    DDx_t = DDx(t, X, m, b, k)\n",
    "    Dx_t = Dx(t, X, m, b, k)\n",
    "\n",
    "    return m*DDx_t + b*Dx_t + k*X[0]"
   ]
  },
  {
   "cell_type": "code",
   "execution_count": 4,
   "id": "8342eb98-0378-4870-be96-c4ca60ac956a",
   "metadata": {},
   "outputs": [],
   "source": [
    "damped_osc = diffeq(odes, 2, 3)\n",
    "\n",
    "train, test = create_trainig_test_set(damped_osc, (0, 10), 100, 1000, 0.3, \"RK45\", seed=0)"
   ]
  },
  {
   "cell_type": "code",
   "execution_count": 5,
   "id": "51f21e3f-746c-412f-b9ac-8165b90c7c29",
   "metadata": {},
   "outputs": [
    {
     "name": "stdout",
     "output_type": "stream",
     "text": [
      "torch.Size([700, 100, 6])\n",
      "torch.Size([700, 100, 1])\n",
      "torch.Size([700, 100])\n",
      "torch.Size([700, 3])\n"
     ]
    }
   ],
   "source": [
    "print(train[\"X\"].shape)\n",
    "print(train[\"y_tensor\"][0:, 0:, 0].unsqueeze(-1).shape)\n",
    "print(train[\"t_tensor\"].shape)\n",
    "print(train[\"args_tensor\"].shape)"
   ]
  },
  {
   "cell_type": "code",
   "execution_count": 43,
   "id": "c8186f27-e210-4038-890c-686f331356eb",
   "metadata": {},
   "outputs": [],
   "source": [
    "class DampedModel(nn.Module):\n",
    "    def __init__(self, n_in):\n",
    "        super().__init__()\n",
    "        self.linear = nn.Linear(in_features=n_in, out_features=32)\n",
    "        self.linear2 = nn.Linear(32, 1)\n",
    "\n",
    "    def forward(self, x):\n",
    "        x = F.tanh(self.linear(x))\n",
    "        x = self.linear2(x)\n",
    "        return x\n",
    "\n",
    "# Initiate the model\n",
    "model = DampedModel(6)"
   ]
  },
  {
   "cell_type": "code",
   "execution_count": 52,
   "id": "f9321b65-3a5d-4ecd-8e4d-55847d343769",
   "metadata": {},
   "outputs": [],
   "source": [
    "def loss_PINN(y_pred, y_exp, x_00, x_01, t, m, b, k, N_f):\n",
    "    mse_y = torch.mean((y_pred - y_exp)**2)\n",
    "\n",
    "    t_f = torch.linspace(0, 100, steps=N_f).repeat(len(t), 1).unsqueeze(-1).requires_grad_(True)\n",
    "\n",
    "    m_f = m.unsqueeze(-1)\n",
    "    b_f = b.unsqueeze(-1)\n",
    "    k_f = k.unsqueeze(-1)\n",
    "    x_00_f = x_00.unsqueeze(-1)\n",
    "    x_01_f = x_01.unsqueeze(-1)\n",
    "\n",
    "    X_f = torch.cat([m_f, b_f, k_f, x_00_f, x_01_f, t_f], dim=-1)\n",
    "    \n",
    "    y_f = model(X_f)\n",
    "    x_t = autograd.grad(y_f, t_f,\n",
    "                       grad_outputs=torch.ones_like(y_f),\n",
    "                       create_graph=True, allow_unused=True)[0]\n",
    "    \n",
    "    x_tt = autograd.grad(x_t, t_f,\n",
    "                        grad_outputs=torch.ones_like(x_t),\n",
    "                        create_graph=True, allow_unused=True)[0]\n",
    "    \n",
    "    # Residual\n",
    "    f_res = m_f*x_tt + b_f*x_t + k_f*y_f\n",
    "    mse_f = torch.mean(f_res**2)\n",
    "\n",
    "    return mse_y + mse_f"
   ]
  },
  {
   "cell_type": "code",
   "execution_count": 53,
   "id": "e51e12d6-eb6f-4c58-9780-24683452b883",
   "metadata": {},
   "outputs": [],
   "source": [
    "optimizer = optim.Adam(model.parameters(), lr=0.01)"
   ]
  },
  {
   "cell_type": "code",
   "execution_count": 54,
   "id": "5eb5b09f-ae54-41c9-9d4e-9212a6743b5b",
   "metadata": {},
   "outputs": [
    {
     "name": "stdout",
     "output_type": "stream",
     "text": [
      "Epoch 1000/10000, Loss: 0.0174\n",
      "Epoch 2000/10000, Loss: 0.0126\n",
      "Epoch 3000/10000, Loss: 0.0151\n",
      "Epoch 4000/10000, Loss: 0.0091\n",
      "Epoch 5000/10000, Loss: 0.0088\n",
      "Epoch 6000/10000, Loss: 0.0080\n",
      "Epoch 7000/10000, Loss: 0.0077\n",
      "Epoch 8000/10000, Loss: 0.0075\n",
      "Epoch 9000/10000, Loss: 0.0072\n",
      "Epoch 10000/10000, Loss: 0.0074\n"
     ]
    }
   ],
   "source": [
    "epochs = 10000\n",
    "\n",
    "for epoch in range(epochs):\n",
    "    X = train[\"X\"]\n",
    "    y_exp = train[\"y_tensor\"][0:, 0:, 0]\n",
    "    y_pred = model(X).squeeze(-1)\n",
    "    t = X[0:, 0:, 5]\n",
    "    m = X[0:, 0:, 0]\n",
    "    b = X[0:, 0:, 1]\n",
    "    k = X[0:, 0:, 2]\n",
    "    x_00 = X[0:, 0:, 3]\n",
    "    x_01 = X[0:, 0:, 4]\n",
    "\n",
    "    loss = loss_PINN(y_pred, y_exp, x_00, x_01, t, m, b, k, N_f=100)\n",
    "\n",
    "    optimizer.zero_grad()\n",
    "    loss.backward()\n",
    "    \n",
    "    optimizer.step()\n",
    "\n",
    "    if (epoch+1) % (int(epochs/10)) == 0:\n",
    "        print(f'Epoch {epoch+1}/{epochs}, Loss: {loss.item():.4f}')"
   ]
  },
  {
   "cell_type": "code",
   "execution_count": 55,
   "id": "7b4b968c-8245-40b3-8ad8-23add918ad80",
   "metadata": {},
   "outputs": [
    {
     "name": "stdout",
     "output_type": "stream",
     "text": [
      "Test Loss: 0.0065\n"
     ]
    }
   ],
   "source": [
    "model.eval()\n",
    "with torch.no_grad():\n",
    "    T_pred_test = model(test[\"X\"])\n",
    "    #print(T_pred_test)\n",
    "    test_loss = loss_func(T_pred_test, test[\"y_tensor\"][0:, 0:, 0].unsqueeze(-1))\n",
    "    print(f\"Test Loss: {test_loss.item():.4f}\")"
   ]
  },
  {
   "cell_type": "code",
   "execution_count": 63,
   "id": "97fb8ac3-eca2-4538-80c8-859bfa86e821",
   "metadata": {},
   "outputs": [
    {
     "name": "stdout",
     "output_type": "stream",
     "text": [
      "torch.Size([300, 100, 1])\n"
     ]
    },
    {
     "data": {
      "image/png": "[encoded data removed]",
      "text/plain": [
       "<Figure size 640x480 with 1 Axes>"
      ]
     },
     "metadata": {},
     "output_type": "display_data"
    }
   ],
   "source": [
    "print(T_pred_test.shape)\n",
    "\n",
    "n = 60\n",
    "plt.scatter(test[\"t_tensor\"][n], test[\"y_tensor\"][n][0:, 0], label=\"True Data\")\n",
    "plt.plot(test[\"t_tensor\"][n], T_pred_test[n], color=\"red\", label=\"Predictions\")\n",
    "plt.legend()\n",
    "plt.show()"
   ]
  },
  {
   "cell_type": "code",
   "execution_count": null,
   "id": "b787a970-34fd-4a5b-af02-aae9d1c8a5f8",
   "metadata": {},
   "outputs": [],
   "source": []
  }
 ],
 "metadata": {
  "kernelspec": {
   "display_name": "Python 3 (ipykernel)",
   "language": "python",
   "name": "python3"
  },
  "language_info": {
   "codemirror_mode": {
    "name": "ipython",
    "version": 3
   },
   "file_extension": ".py",
   "mimetype": "text/x-python",
   "name": "python",
   "nbconvert_exporter": "python",
   "pygments_lexer": "ipython3",
   "version": "3.12.3"
  }
 },
 "nbformat": 4,
 "nbformat_minor": 5
}
