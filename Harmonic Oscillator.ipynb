{
 "cells": [
  {
   "cell_type": "code",
   "execution_count": 1,
   "id": "19206032-49a1-4c05-a597-51cc0226273d",
   "metadata": {},
   "outputs": [],
   "source": [
    "import numpy as np\n",
    "import scipy as sp\n",
    "import math\n",
    "import torch\n",
    "import matplotlib.pyplot as plt\n",
    "import inspect\n",
    "import textwrap\n",
    "\n",
    "from typing import Callable\n",
    "from torch import nn, optim\n",
    "from data import diffeq, create_trainig_test_set\n",
    "\n",
    "import torch.nn.functional as F"
   ]
  },
  {
   "cell_type": "code",
   "execution_count": 2,
   "id": "12478f04-81a2-4aaf-975e-1dd9c1ba1ab0",
   "metadata": {},
   "outputs": [],
   "source": [
    "#Define the harmonic oscillator\n",
    "\n",
    "def f(t,x,k):\n",
    "    #write the function that is on the other side of the differential equation\n",
    "    return -k*x\n",
    "\n",
    "def differential_equation_1_order(t, x, k):\n",
    "    dx_dt = f(t,x,k)\n",
    "    return dx_dt\n",
    "\n",
    "def differential_equation_2_order(t, X, k):\n",
    "    #rewrite d^2x/dt^2 as dy/dt where y=dx/dt\n",
    "    x, y = X\n",
    "    dx_dt = y\n",
    "    dy_dt = f(t,x,k)\n",
    "\n",
    "    return [dx_dt, dy_dt]"
   ]
  },
  {
   "cell_type": "code",
   "execution_count": 3,
   "id": "4d4f51b4-0bdd-4e19-91b1-7e19c6799031",
   "metadata": {},
   "outputs": [
    {
     "name": "stdout",
     "output_type": "stream",
     "text": [
      "torch.Size([106])\n"
     ]
    }
   ],
   "source": [
    "torch.manual_seed(0) #get the same random numbers everytime you run the code\n",
    "\n",
    "t_span = (0, 10)\n",
    "n_step = 103\n",
    "n_data = 1000\n",
    "coeff_test = 0.3\n",
    "\n",
    "cooling_deq = diffeq(differential_equation_2_order, 2, 1)\n",
    "\n",
    "train, test = create_trainig_test_set(cooling_deq, t_span, n_step, n_data, coeff_test, \"RK45\")\n",
    "print(train[\"X\"][0].shape)\n",
    "in_features = train[\"X\"][0].shape[0]"
   ]
  },
  {
   "cell_type": "code",
   "execution_count": 4,
   "id": "5859b441-fe54-441b-80d5-9f42e4b22b35",
   "metadata": {},
   "outputs": [],
   "source": [
    "if torch.accelerator.is_available():\n",
    "    device = torch.accelerator.current_accelerator().type\n",
    "    print(device)"
   ]
  },
  {
   "cell_type": "code",
   "execution_count": 5,
   "id": "633bb18a-dc41-449e-b85c-ffb2e90de4ee",
   "metadata": {},
   "outputs": [],
   "source": [
    "class CoolingModel(nn.Module):\n",
    "    def __init__(self, n_step):\n",
    "        super().__init__()\n",
    "        self.fc1 = nn.Linear(in_features=in_features, out_features=32)\n",
    "        self.fc2 = nn.Linear(32, n_step)\n",
    "\n",
    "    def forward(self, x):\n",
    "        x = torch.tanh(self.fc1(x))     # smooth activation\n",
    "        x = self.fc2(x)\n",
    "        return x\n",
    "\n",
    "# Initiate the model\n",
    "model = CoolingModel(n_step)"
   ]
  },
  {
   "cell_type": "code",
   "execution_count": 6,
   "id": "303702f0-ef9a-47f9-a45e-afb8617cc892",
   "metadata": {},
   "outputs": [],
   "source": [
    "loss_func = nn.MSELoss()\n",
    "optimizer = optim.Adam(model.parameters(), lr=1e-3, weight_decay=1e-4) #updates model parameters based on the gradients computed from the loss"
   ]
  },
  {
   "cell_type": "code",
   "execution_count": 7,
   "id": "85c07223-63dd-4eaf-a8ff-8c67d73f9bf0",
   "metadata": {},
   "outputs": [
    {
     "name": "stdout",
     "output_type": "stream",
     "text": [
      "Epoch 100/10000, Loss: 0.7717\n",
      "Epoch 200/10000, Loss: 0.7292\n",
      "Epoch 300/10000, Loss: 0.6319\n",
      "Epoch 400/10000, Loss: 0.5702\n",
      "Epoch 500/10000, Loss: 0.5456\n",
      "Epoch 600/10000, Loss: 0.5323\n",
      "Epoch 700/10000, Loss: 0.5219\n",
      "Epoch 800/10000, Loss: 0.5126\n",
      "Epoch 900/10000, Loss: 0.5029\n",
      "Epoch 1000/10000, Loss: 0.4924\n",
      "Epoch 1100/10000, Loss: 0.4812\n",
      "Epoch 1200/10000, Loss: 0.4674\n",
      "Epoch 1300/10000, Loss: 0.4495\n",
      "Epoch 1400/10000, Loss: 0.4314\n",
      "Epoch 1500/10000, Loss: 0.4112\n",
      "Epoch 1600/10000, Loss: 0.3878\n",
      "Epoch 1700/10000, Loss: 0.3726\n",
      "Epoch 1800/10000, Loss: 0.3472\n",
      "Epoch 1900/10000, Loss: 0.3312\n",
      "Epoch 2000/10000, Loss: 0.3136\n",
      "Epoch 2100/10000, Loss: 0.2994\n",
      "Epoch 2200/10000, Loss: 0.2899\n",
      "Epoch 2300/10000, Loss: 0.2759\n",
      "Epoch 2400/10000, Loss: 0.2638\n",
      "Epoch 2500/10000, Loss: 0.2525\n",
      "Epoch 2600/10000, Loss: 0.2420\n",
      "Epoch 2700/10000, Loss: 0.2310\n",
      "Epoch 2800/10000, Loss: 0.2252\n",
      "Epoch 2900/10000, Loss: 0.2096\n",
      "Epoch 3000/10000, Loss: 0.2010\n",
      "Epoch 3100/10000, Loss: 0.1883\n",
      "Epoch 3200/10000, Loss: 0.1808\n",
      "Epoch 3300/10000, Loss: 0.1686\n",
      "Epoch 3400/10000, Loss: 0.1598\n",
      "Epoch 3500/10000, Loss: 0.1618\n",
      "Epoch 3600/10000, Loss: 0.1485\n",
      "Epoch 3700/10000, Loss: 0.1373\n",
      "Epoch 3800/10000, Loss: 0.1430\n",
      "Epoch 3900/10000, Loss: 0.1224\n",
      "Epoch 4000/10000, Loss: 0.1142\n",
      "Epoch 4100/10000, Loss: 0.1091\n",
      "Epoch 4200/10000, Loss: 0.1035\n",
      "Epoch 4300/10000, Loss: 0.0989\n",
      "Epoch 4400/10000, Loss: 0.0987\n",
      "Epoch 4500/10000, Loss: 0.0916\n",
      "Epoch 4600/10000, Loss: 0.0887\n",
      "Epoch 4700/10000, Loss: 0.0832\n",
      "Epoch 4800/10000, Loss: 0.0801\n",
      "Epoch 4900/10000, Loss: 0.0774\n",
      "Epoch 5000/10000, Loss: 0.0746\n",
      "Epoch 5100/10000, Loss: 0.0720\n",
      "Epoch 5200/10000, Loss: 0.0699\n",
      "Epoch 5300/10000, Loss: 0.0676\n",
      "Epoch 5400/10000, Loss: 0.0658\n",
      "Epoch 5500/10000, Loss: 0.0633\n",
      "Epoch 5600/10000, Loss: 0.0615\n",
      "Epoch 5700/10000, Loss: 0.0596\n",
      "Epoch 5800/10000, Loss: 0.0578\n",
      "Epoch 5900/10000, Loss: 0.0564\n",
      "Epoch 6000/10000, Loss: 0.0571\n",
      "Epoch 6100/10000, Loss: 0.0591\n",
      "Epoch 6200/10000, Loss: 0.0531\n",
      "Epoch 6300/10000, Loss: 0.0519\n",
      "Epoch 6400/10000, Loss: 0.0488\n",
      "Epoch 6500/10000, Loss: 0.0486\n",
      "Epoch 6600/10000, Loss: 0.0470\n",
      "Epoch 6700/10000, Loss: 0.0454\n",
      "Epoch 6800/10000, Loss: 0.0453\n",
      "Epoch 6900/10000, Loss: 0.0434\n",
      "Epoch 7000/10000, Loss: 0.0431\n",
      "Epoch 7100/10000, Loss: 0.0478\n",
      "Epoch 7200/10000, Loss: 0.0424\n",
      "Epoch 7300/10000, Loss: 0.0406\n",
      "Epoch 7400/10000, Loss: 0.0385\n",
      "Epoch 7500/10000, Loss: 0.0375\n",
      "Epoch 7600/10000, Loss: 0.0372\n",
      "Epoch 7700/10000, Loss: 0.0358\n",
      "Epoch 7800/10000, Loss: 0.0362\n",
      "Epoch 7900/10000, Loss: 0.0351\n",
      "Epoch 8000/10000, Loss: 0.0346\n",
      "Epoch 8100/10000, Loss: 0.0330\n",
      "Epoch 8200/10000, Loss: 0.0323\n",
      "Epoch 8300/10000, Loss: 0.0316\n",
      "Epoch 8400/10000, Loss: 0.0310\n",
      "Epoch 8500/10000, Loss: 0.0304\n",
      "Epoch 8600/10000, Loss: 0.0298\n",
      "Epoch 8700/10000, Loss: 0.0294\n",
      "Epoch 8800/10000, Loss: 0.0287\n",
      "Epoch 8900/10000, Loss: 0.0283\n",
      "Epoch 9000/10000, Loss: 0.0303\n",
      "Epoch 9100/10000, Loss: 0.0274\n",
      "Epoch 9200/10000, Loss: 0.0271\n",
      "Epoch 9300/10000, Loss: 0.0268\n",
      "Epoch 9400/10000, Loss: 0.0284\n",
      "Epoch 9500/10000, Loss: 0.0259\n",
      "Epoch 9600/10000, Loss: 0.0253\n",
      "Epoch 9700/10000, Loss: 0.0243\n",
      "Epoch 9800/10000, Loss: 0.0243\n",
      "Epoch 9900/10000, Loss: 0.0236\n",
      "Epoch 10000/10000, Loss: 0.0240\n"
     ]
    }
   ],
   "source": [
    "epochs = 10000\n",
    "\n",
    "for epoch in range(epochs):\n",
    "    T_pred = model(train[\"X\"])\n",
    "    \n",
    "    loss = loss_func(T_pred, train[\"y_tensor\"][0:, 0])\n",
    "\n",
    "    optimizer.zero_grad()\n",
    "    loss.backward()\n",
    "    \n",
    "    optimizer.step()\n",
    "\n",
    "    if (epoch+1) % (int(epochs/100)) == 0:\n",
    "        print(f'Epoch {epoch+1}/{epochs}, Loss: {loss.item():.4f}')"
   ]
  },
  {
   "cell_type": "code",
   "execution_count": 8,
   "id": "9ad5a504-508c-4a77-8cfb-233a3723dc33",
   "metadata": {},
   "outputs": [
    {
     "name": "stdout",
     "output_type": "stream",
     "text": [
      "tensor([[ 0.9267,  0.9735,  1.0178,  ..., -0.6816, -0.6394, -0.5973],\n",
      "        [ 0.1642,  0.2424,  0.3190,  ...,  0.8199,  0.8052,  0.7843],\n",
      "        [ 0.4010,  0.4531,  0.5051,  ...,  1.2334,  1.1944,  1.1563],\n",
      "        ...,\n",
      "        [ 0.7383,  0.7485,  0.7560,  ...,  0.3487,  0.3691,  0.3855],\n",
      "        [ 0.8474,  0.8692,  0.8868,  ...,  0.8614,  0.8498,  0.8341],\n",
      "        [ 0.2951,  0.3043,  0.3124,  ...,  0.1912,  0.1995,  0.2083]])\n",
      "Test Loss: 0.0375\n"
     ]
    }
   ],
   "source": [
    "model.eval()\n",
    "with torch.no_grad():\n",
    "    T_pred_test = model(test[\"X\"])\n",
    "    print(T_pred_test)\n",
    "    test_loss = loss_func(T_pred_test, test[\"y_tensor\"][0:, 0])\n",
    "    print(f\"Test Loss: {test_loss.item():.4f}\")"
   ]
  },
  {
   "cell_type": "code",
   "execution_count": 10,
   "id": "7058f2f7-8fb1-4ee2-89e1-25c02638e66d",
   "metadata": {},
   "outputs": [
    {
     "data": {
      "image/png": "[encoded data removed]",
      "text/plain": [
       "<Figure size 640x480 with 1 Axes>"
      ]
     },
     "metadata": {},
     "output_type": "display_data"
    }
   ],
   "source": [
    "n = 30\n",
    "plt.scatter(test[\"t_tensor\"][n], test[\"y_tensor\"][n][0], label=\"True Data\")\n",
    "plt.plot(test[\"t_tensor\"][n], T_pred_test[n], color=\"red\", label=\"Predictions\")\n",
    "plt.xlabel(\"t\")\n",
    "plt.ylabel(\"X(t)\")\n",
    "plt.title(\"Harmonic oscillator\")\n",
    "plt.legend()\n",
    "plt.show()"
   ]
  }
 ],
 "metadata": {
  "kernelspec": {
   "display_name": "Python (ML_WSL_env)",
   "language": "python",
   "name": "ml_wsl_env"
  },
  "language_info": {
   "codemirror_mode": {
    "name": "ipython",
    "version": 3
   },
   "file_extension": ".py",
   "mimetype": "text/x-python",
   "name": "python",
   "nbconvert_exporter": "python",
   "pygments_lexer": "ipython3",
   "version": "3.12.3"
  }
 },
 "nbformat": 4,
 "nbformat_minor": 5
}
