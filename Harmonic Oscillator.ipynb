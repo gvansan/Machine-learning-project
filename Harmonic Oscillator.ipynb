{
 "cells": [
  {
   "cell_type": "code",
   "execution_count": 1,
   "id": "19206032-49a1-4c05-a597-51cc0226273d",
   "metadata": {},
   "outputs": [],
   "source": [
    "import numpy as np\n",
    "import scipy as sp\n",
    "import math\n",
    "import torch\n",
    "import matplotlib.pyplot as plt\n",
    "import inspect\n",
    "import textwrap\n",
    "\n",
    "from typing import Callable\n",
    "from torch import nn, optim\n",
    "from data import diffeq, create_trainig_test_set\n",
    "\n",
    "import torch.nn.functional as F"
   ]
  },
  {
   "cell_type": "code",
   "execution_count": 2,
   "id": "12478f04-81a2-4aaf-975e-1dd9c1ba1ab0",
   "metadata": {},
   "outputs": [],
   "source": [
    "#Define the harmonic oscillator\n",
    "\n",
    "def f(t,x,w):\n",
    "    #write the function that is on the other side of the differential equation\n",
    "    return -w*x\n",
    "\n",
    "def differential_equation_1_order(t, x, w):\n",
    "    dx_dt = f(t,x,w)\n",
    "    return dx_dt\n",
    "\n",
    "def differential_equation_2_order(t, X, w):\n",
    "    #rewrite d^2x/dt^2 as dy/dt where y=dx/dt\n",
    "    x, y = X\n",
    "    dx_dt = y\n",
    "    dy_dt = f(t,x,w)\n",
    "\n",
    "    return [dx_dt, dy_dt]"
   ]
  },
  {
   "cell_type": "code",
   "execution_count": 3,
   "id": "4d4f51b4-0bdd-4e19-91b1-7e19c6799031",
   "metadata": {},
   "outputs": [
    {
     "name": "stdout",
     "output_type": "stream",
     "text": [
      "torch.Size([103])\n"
     ]
    }
   ],
   "source": [
    "t_span = (0, 10)\n",
    "n_steps = 100\n",
    "n_data = 1000\n",
    "coeff_test = 0.3\n",
    "\n",
    "cooling_deq = diffeq(differential_equation_2_order, 2, 1)\n",
    "\n",
    "train, test = create_trainig_test_set(cooling_deq, t_span, n_steps, n_data, coeff_test, \"RK45\")\n",
    "print(train[\"X\"][0].shape)"
   ]
  },
  {
   "cell_type": "code",
   "execution_count": 4,
   "id": "5859b441-fe54-441b-80d5-9f42e4b22b35",
   "metadata": {},
   "outputs": [],
   "source": [
    "if torch.accelerator.is_available():\n",
    "    device = torch.accelerator.current_accelerator().type\n",
    "    print(device)"
   ]
  },
  {
   "cell_type": "code",
   "execution_count": 5,
   "id": "633bb18a-dc41-449e-b85c-ffb2e90de4ee",
   "metadata": {},
   "outputs": [],
   "source": [
    "class CoolingModel(nn.Module):\n",
    "    def __init__(self, n_step):\n",
    "        super().__init__()\n",
    "        self.linear = nn.Linear(in_features=n_step, out_features=200)\n",
    "        self.linear2 = nn.Linear(200, n_steps)\n",
    "\n",
    "    def forward(self, x):\n",
    "        x = F.relu(self.linear(x))\n",
    "        x = self.linear2(x)\n",
    "        return x\n",
    "\n",
    "# Initiate the model\n",
    "model = CoolingModel(103)"
   ]
  },
  {
   "cell_type": "code",
   "execution_count": 6,
   "id": "303702f0-ef9a-47f9-a45e-afb8617cc892",
   "metadata": {},
   "outputs": [],
   "source": [
    "loss_func = nn.MSELoss()\n",
    "optimizer = optim.SGD(model.parameters(), lr=0.01)"
   ]
  },
  {
   "cell_type": "code",
   "execution_count": 7,
   "id": "85c07223-63dd-4eaf-a8ff-8c67d73f9bf0",
   "metadata": {},
   "outputs": [
    {
     "name": "stdout",
     "output_type": "stream",
     "text": [
      "Epoch 200/20000, Loss: 0.9278\n",
      "Epoch 400/20000, Loss: 0.9270\n",
      "Epoch 600/20000, Loss: 0.9263\n",
      "Epoch 800/20000, Loss: 0.9255\n",
      "Epoch 1000/20000, Loss: 0.9248\n",
      "Epoch 1200/20000, Loss: 0.9240\n",
      "Epoch 1400/20000, Loss: 0.9232\n",
      "Epoch 1600/20000, Loss: 0.9223\n",
      "Epoch 1800/20000, Loss: 0.9214\n",
      "Epoch 2000/20000, Loss: 0.9204\n",
      "Epoch 2200/20000, Loss: 0.9193\n",
      "Epoch 2400/20000, Loss: 0.9182\n",
      "Epoch 2600/20000, Loss: 0.9170\n",
      "Epoch 2800/20000, Loss: 0.9156\n",
      "Epoch 3000/20000, Loss: 0.9142\n",
      "Epoch 3200/20000, Loss: 0.9126\n",
      "Epoch 3400/20000, Loss: 0.9109\n",
      "Epoch 3600/20000, Loss: 0.9090\n",
      "Epoch 3800/20000, Loss: 0.9070\n",
      "Epoch 4000/20000, Loss: 0.9048\n",
      "Epoch 4200/20000, Loss: 0.9024\n",
      "Epoch 4400/20000, Loss: 0.8998\n",
      "Epoch 4600/20000, Loss: 0.8969\n",
      "Epoch 4800/20000, Loss: 0.8938\n",
      "Epoch 5000/20000, Loss: 0.8904\n",
      "Epoch 5200/20000, Loss: 0.8868\n",
      "Epoch 5400/20000, Loss: 0.8828\n",
      "Epoch 5600/20000, Loss: 0.8786\n",
      "Epoch 5800/20000, Loss: 0.8740\n",
      "Epoch 6000/20000, Loss: 0.8691\n",
      "Epoch 6200/20000, Loss: 0.8639\n",
      "Epoch 6400/20000, Loss: 0.8583\n",
      "Epoch 6600/20000, Loss: 0.8619\n",
      "Epoch 6800/20000, Loss: 0.9389\n",
      "Epoch 7000/20000, Loss: 1.0180\n",
      "Epoch 7200/20000, Loss: 1.0475\n",
      "Epoch 7400/20000, Loss: 0.8449\n",
      "Epoch 7600/20000, Loss: 0.8414\n",
      "Epoch 7800/20000, Loss: 0.8400\n",
      "Epoch 8000/20000, Loss: 0.8401\n",
      "Epoch 8200/20000, Loss: 0.8352\n",
      "Epoch 8400/20000, Loss: 0.8358\n",
      "Epoch 8600/20000, Loss: 0.8441\n",
      "Epoch 8800/20000, Loss: 0.8373\n",
      "Epoch 9000/20000, Loss: 0.8449\n",
      "Epoch 9200/20000, Loss: 0.8344\n",
      "Epoch 9400/20000, Loss: 0.8435\n",
      "Epoch 9600/20000, Loss: 0.8366\n",
      "Epoch 9800/20000, Loss: 1.2687\n",
      "Epoch 10000/20000, Loss: 0.8363\n",
      "Epoch 10200/20000, Loss: 1.2134\n",
      "Epoch 10400/20000, Loss: 0.8306\n",
      "Epoch 10600/20000, Loss: 0.8294\n",
      "Epoch 10800/20000, Loss: 0.8295\n",
      "Epoch 11000/20000, Loss: 0.8420\n",
      "Epoch 11200/20000, Loss: 0.8344\n",
      "Epoch 11400/20000, Loss: 0.8271\n",
      "Epoch 11600/20000, Loss: 0.8441\n",
      "Epoch 11800/20000, Loss: 0.8372\n",
      "Epoch 12000/20000, Loss: 0.8301\n",
      "Epoch 12200/20000, Loss: 0.8424\n",
      "Epoch 12400/20000, Loss: 0.8355\n",
      "Epoch 12600/20000, Loss: 0.8563\n",
      "Epoch 12800/20000, Loss: 0.8462\n",
      "Epoch 13000/20000, Loss: 0.8396\n",
      "Epoch 13200/20000, Loss: 0.8355\n",
      "Epoch 13400/20000, Loss: 0.8501\n",
      "Epoch 13600/20000, Loss: 0.8437\n",
      "Epoch 13800/20000, Loss: 0.8371\n",
      "Epoch 14000/20000, Loss: 0.8441\n",
      "Epoch 14200/20000, Loss: 0.8374\n",
      "Epoch 14400/20000, Loss: 0.8429\n",
      "Epoch 14600/20000, Loss: 0.8362\n",
      "Epoch 14800/20000, Loss: 0.8588\n",
      "Epoch 15000/20000, Loss: 0.8528\n",
      "Epoch 15200/20000, Loss: 0.8467\n",
      "Epoch 15400/20000, Loss: 0.8403\n",
      "Epoch 15600/20000, Loss: 0.8487\n",
      "Epoch 15800/20000, Loss: 0.8417\n",
      "Epoch 16000/20000, Loss: 0.8458\n",
      "Epoch 16200/20000, Loss: 0.8392\n",
      "Epoch 16400/20000, Loss: 0.8471\n",
      "Epoch 16600/20000, Loss: 0.8406\n",
      "Epoch 16800/20000, Loss: 0.8559\n",
      "Epoch 17000/20000, Loss: 0.8494\n",
      "Epoch 17200/20000, Loss: 0.8431\n",
      "Epoch 17400/20000, Loss: 0.8761\n",
      "Epoch 17600/20000, Loss: 0.8822\n",
      "Epoch 17800/20000, Loss: 0.8608\n",
      "Epoch 18000/20000, Loss: 0.8829\n",
      "Epoch 18200/20000, Loss: 0.8622\n",
      "Epoch 18400/20000, Loss: 0.8719\n",
      "Epoch 18600/20000, Loss: 0.8638\n",
      "Epoch 18800/20000, Loss: 0.8623\n",
      "Epoch 19000/20000, Loss: 0.8611\n",
      "Epoch 19200/20000, Loss: 0.8602\n",
      "Epoch 19400/20000, Loss: 0.8576\n",
      "Epoch 19600/20000, Loss: 0.8554\n",
      "Epoch 19800/20000, Loss: 0.8538\n",
      "Epoch 20000/20000, Loss: 0.8521\n"
     ]
    }
   ],
   "source": [
    "epochs = 20000\n",
    "\n",
    "for epoch in range(epochs):\n",
    "    T_pred = model(train[\"X\"])\n",
    "    \n",
    "    loss = loss_func(T_pred, train[\"y_tensor\"][0:, 0])\n",
    "\n",
    "    optimizer.zero_grad()\n",
    "    loss.backward()\n",
    "    \n",
    "    optimizer.step()\n",
    "\n",
    "    if (epoch+1) % (int(epochs/100)) == 0:\n",
    "        print(f'Epoch {epoch+1}/{epochs}, Loss: {loss.item():.4f}')"
   ]
  },
  {
   "cell_type": "code",
   "execution_count": 8,
   "id": "9ad5a504-508c-4a77-8cfb-233a3723dc33",
   "metadata": {},
   "outputs": [
    {
     "name": "stdout",
     "output_type": "stream",
     "text": [
      "tensor([[0.5219, 0.5681, 0.6507,  ..., 0.2402, 0.2230, 0.2792],\n",
      "        [0.4857, 0.5366, 0.6045,  ..., 0.2445, 0.2410, 0.2916],\n",
      "        [0.5311, 0.5726, 0.6688,  ..., 0.2504, 0.2553, 0.3047],\n",
      "        ...,\n",
      "        [0.4631, 0.5157, 0.5495,  ..., 0.1351, 0.1352, 0.1093],\n",
      "        [0.4740, 0.5243, 0.5739,  ..., 0.1727, 0.1796, 0.1750],\n",
      "        [0.4624, 0.5196, 0.5522,  ..., 0.1697, 0.1429, 0.1572]])\n",
      "Test Loss: 0.8831\n"
     ]
    }
   ],
   "source": [
    "model.eval()\n",
    "with torch.no_grad():\n",
    "    T_pred_test = model(test[\"X\"])\n",
    "    print(T_pred_test)\n",
    "    test_loss = loss_func(T_pred_test, test[\"y_tensor\"][0:, 0])\n",
    "    print(f\"Test Loss: {test_loss.item():.4f}\")"
   ]
  },
  {
   "cell_type": "code",
   "execution_count": 11,
   "id": "7058f2f7-8fb1-4ee2-89e1-25c02638e66d",
   "metadata": {},
   "outputs": [
    {
     "data": {
      "image/png": "[encoded data removed]",
      "text/plain": [
       "<Figure size 640x480 with 1 Axes>"
      ]
     },
     "metadata": {},
     "output_type": "display_data"
    }
   ],
   "source": [
    "n = 30\n",
    "plt.scatter(test[\"t_tensor\"][n], test[\"y_tensor\"][n][0], label=\"True Data\")\n",
    "plt.plot(test[\"t_tensor\"][n], T_pred_test[n], color=\"red\", label=\"Predictions\")\n",
    "plt.xlabel(\"t\")\n",
    "plt.ylabel(\"X(t)\")\n",
    "plt.title(\"Harmonic oscillator\")\n",
    "plt.legend()\n",
    "plt.show()"
   ]
  }
 ],
 "metadata": {
  "kernelspec": {
   "display_name": "Python (ML_WSL_env)",
   "language": "python",
   "name": "ml_wsl_env"
  },
  "language_info": {
   "codemirror_mode": {
    "name": "ipython",
    "version": 3
   },
   "file_extension": ".py",
   "mimetype": "text/x-python",
   "name": "python",
   "nbconvert_exporter": "python",
   "pygments_lexer": "ipython3",
   "version": "3.12.3"
  }
 },
 "nbformat": 4,
 "nbformat_minor": 5
}
