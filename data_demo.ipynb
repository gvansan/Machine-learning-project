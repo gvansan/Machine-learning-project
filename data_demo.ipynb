{
 "cells": [
  {
   "cell_type": "code",
   "execution_count": 16,
   "id": "19206032-49a1-4c05-a597-51cc0226273d",
   "metadata": {},
   "outputs": [],
   "source": [
    "import numpy as np\n",
    "import scipy as sp\n",
    "import math\n",
    "import torch\n",
    "import matplotlib.pyplot as plt\n",
    "import inspect\n",
    "import textwrap\n",
    "\n",
    "from typing import Callable\n",
    "from torch import nn, optim\n",
    "from data import diffeq, create_trainig_test_set\n",
    "\n",
    "import torch.nn.functional as F"
   ]
  },
  {
   "cell_type": "code",
   "execution_count": 17,
   "id": "12478f04-81a2-4aaf-975e-1dd9c1ba1ab0",
   "metadata": {},
   "outputs": [],
   "source": [
    "def f(t,x,w):\n",
    "    #write the function that is on the other side of the differential equation\n",
    "    return -w*x\n",
    "\n",
    "def differential_equation_1_order(t, x, w):\n",
    "    dx_dt = f(t,x,w)\n",
    "    return dx_dt\n",
    "\n",
    "def differential_equation_2_order(t, X, w):\n",
    "    #rewrite d^2x/dt^2 as dy/dt where y=dx/dt\n",
    "    x, y = X\n",
    "    dx_dt = y\n",
    "    dy_dt = f(t,x,w)\n",
    "\n",
    "    return [dx_dt, dy_dt]"
   ]
  },
  {
   "cell_type": "code",
   "execution_count": 18,
   "id": "4d4f51b4-0bdd-4e19-91b1-7e19c6799031",
   "metadata": {},
   "outputs": [
    {
     "name": "stdout",
     "output_type": "stream",
     "text": [
      "torch.Size([103])\n"
     ]
    }
   ],
   "source": [
    "cooling_deq = diffeq(differential_equation_2_order, 2, 1)\n",
    "\n",
    "train, test = create_trainig_test_set(cooling_deq, (0, 10), 100, 1000, 0.3, \"RK45\")\n",
    "print(train[\"X\"][0].shape)"
   ]
  },
  {
   "cell_type": "code",
   "execution_count": 19,
   "id": "5859b441-fe54-441b-80d5-9f42e4b22b35",
   "metadata": {},
   "outputs": [],
   "source": [
    "if torch.accelerator.is_available():\n",
    "    device = torch.accelerator.current_accelerator().type\n",
    "    print(device)"
   ]
  },
  {
   "cell_type": "code",
   "execution_count": 20,
   "id": "633bb18a-dc41-449e-b85c-ffb2e90de4ee",
   "metadata": {},
   "outputs": [],
   "source": [
    "class CoolingModel(nn.Module):\n",
    "    def __init__(self, n_step):\n",
    "        super().__init__()\n",
    "        self.linear = nn.Linear(in_features=n_step, out_features=200)\n",
    "        self.linear2 = nn.Linear(200, 100)\n",
    "\n",
    "    def forward(self, x):\n",
    "        x = F.relu(self.linear(x))\n",
    "        x = self.linear2(x)\n",
    "        return x\n",
    "\n",
    "# Initiate the model\n",
    "model = CoolingModel(103)"
   ]
  },
  {
   "cell_type": "code",
   "execution_count": 21,
   "id": "303702f0-ef9a-47f9-a45e-afb8617cc892",
   "metadata": {},
   "outputs": [],
   "source": [
    "loss_func = nn.MSELoss()\n",
    "optimizer = optim.SGD(model.parameters(), lr=0.01)"
   ]
  },
  {
   "cell_type": "code",
   "execution_count": 66,
   "id": "85c07223-63dd-4eaf-a8ff-8c67d73f9bf0",
   "metadata": {},
   "outputs": [
    {
     "name": "stdout",
     "output_type": "stream",
     "text": [
      "Epoch 10000/100000, Loss: 0.6079\n",
      "Epoch 20000/100000, Loss: 0.6250\n",
      "Epoch 30000/100000, Loss: 0.6072\n",
      "Epoch 40000/100000, Loss: 0.5890\n",
      "Epoch 50000/100000, Loss: 0.6088\n",
      "Epoch 60000/100000, Loss: 0.5928\n",
      "Epoch 70000/100000, Loss: 0.6041\n",
      "Epoch 80000/100000, Loss: 0.5823\n",
      "Epoch 90000/100000, Loss: 0.5918\n",
      "Epoch 100000/100000, Loss: 0.5975\n"
     ]
    }
   ],
   "source": [
    "epochs = 100000\n",
    "\n",
    "for epoch in range(epochs):\n",
    "    T_pred = model(train[\"X\"])\n",
    "    \n",
    "    loss = loss_func(T_pred, train[\"y_tensor\"][0:, 0])\n",
    "\n",
    "    optimizer.zero_grad()\n",
    "    loss.backward()\n",
    "    \n",
    "    optimizer.step()\n",
    "\n",
    "    if (epoch+1) % (int(epochs/10)) == 0:\n",
    "        print(f'Epoch {epoch+1}/{epochs}, Loss: {loss.item():.4f}')"
   ]
  },
  {
   "cell_type": "code",
   "execution_count": 67,
   "id": "9ad5a504-508c-4a77-8cfb-233a3723dc33",
   "metadata": {},
   "outputs": [
    {
     "name": "stdout",
     "output_type": "stream",
     "text": [
      "tensor([[0.6386, 0.7323, 0.8474,  ..., 0.1475, 0.1403, 0.0841],\n",
      "        [0.9684, 1.0115, 1.0264,  ..., 0.0759, 0.0824, 0.0800],\n",
      "        [0.7246, 0.7405, 0.7667,  ..., 0.1328, 0.1299, 0.1373],\n",
      "        ...,\n",
      "        [0.3648, 0.4115, 0.5067,  ..., 0.0610, 0.0418, 0.0090],\n",
      "        [0.7448, 0.7738, 0.7976,  ..., 0.0540, 0.0467, 0.0445],\n",
      "        [0.6879, 0.7705, 0.8704,  ..., 0.1055, 0.0988, 0.0495]])\n",
      "Test Loss: 0.6306\n"
     ]
    }
   ],
   "source": [
    "model.eval()\n",
    "with torch.no_grad():\n",
    "    T_pred_test = model(test[\"X\"])\n",
    "    print(T_pred_test)\n",
    "    test_loss = loss_func(T_pred_test, test[\"y_tensor\"][0:, 0])\n",
    "    print(f\"Test Loss: {test_loss.item():.4f}\")"
   ]
  },
  {
   "cell_type": "code",
   "execution_count": 71,
   "id": "7058f2f7-8fb1-4ee2-89e1-25c02638e66d",
   "metadata": {},
   "outputs": [
    {
     "data": {
      "image/png": "[encoded data removed]",
      "text/plain": [
       "<Figure size 640x480 with 1 Axes>"
      ]
     },
     "metadata": {},
     "output_type": "display_data"
    }
   ],
   "source": [
    "n = 30\n",
    "plt.scatter(test[\"t_tensor\"][n], test[\"y_tensor\"][n][0], label=\"True Data\")\n",
    "plt.plot(test[\"t_tensor\"][n], T_pred_test[n], color=\"red\", label=\"Predictions\")\n",
    "plt.legend()\n",
    "plt.show()"
   ]
  },
  {
   "cell_type": "code",
   "execution_count": null,
   "id": "90945449-d15d-412e-a2aa-9771f3910f58",
   "metadata": {},
   "outputs": [],
   "source": []
  }
 ],
 "metadata": {
  "kernelspec": {
   "display_name": "Python 3 (ipykernel)",
   "language": "python",
   "name": "python3"
  },
  "language_info": {
   "codemirror_mode": {
    "name": "ipython",
    "version": 3
   },
   "file_extension": ".py",
   "mimetype": "text/x-python",
   "name": "python",
   "nbconvert_exporter": "python",
   "pygments_lexer": "ipython3",
   "version": "3.12.3"
  }
 },
 "nbformat": 4,
 "nbformat_minor": 5
}
